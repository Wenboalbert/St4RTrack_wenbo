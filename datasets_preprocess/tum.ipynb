{
 "cells": [
  {
   "cell_type": "code",
   "execution_count": 3,
   "metadata": {},
   "outputs": [],
   "source": [
    "import glob\n",
    "import os\n",
    "import shutil\n",
    "dirs = glob.glob(\"../data/tum/*/\")\n",
    "dirs = sorted(dirs)\n",
    "# extract frames\n",
    "for dir in dirs:\n",
    "    frames = glob.glob(dir + 'rgb/*.png')\n",
    "    frames = sorted(frames)\n",
    "    # sample 110 frames at the stride of 2\n",
    "    frames = frames[::2][:90]\n",
    "    # cut frames after 110\n",
    "    new_dir = dir + 'rgb_90_new/'\n",
    "\n",
    "    for frame in frames:\n",
    "        os.makedirs(new_dir, exist_ok=True)\n",
    "        shutil.copy(frame, new_dir)\n",
    "        # print(f'cp {frame} {new_dir}')\n",
    "\n",
    "    depth_frames = glob.glob(dir + 'depth/*.png')\n",
    "    depth_frames = sorted(depth_frames)\n",
    "    # sample 110 frames at the stride of 2\n",
    "    depth_frames = depth_frames[::2][:90]\n",
    "    # cut frames after 110\n",
    "    new_dir = dir + 'depth_90_new/'\n",
    "\n",
    "    for frame in depth_frames:\n",
    "        os.makedirs(new_dir, exist_ok=True)\n",
    "        shutil.copy(frame, new_dir)\n",
    "        # print(f'cp {frame} {new_dir}')\n",
    "\n"
   ]
  },
  {
   "cell_type": "code",
   "execution_count": 4,
   "metadata": {},
   "outputs": [],
   "source": [
    "import numpy as np\n",
    "for dir in dirs:\n",
    "    gt_path = \"groundtruth.txt\"\n",
    "    gt = np.loadtxt(dir + gt_path)\n",
    "    gt_110 = gt[::2][:90]\n",
    "    np.savetxt(dir + 'groundtruth_90_new.txt', gt_110)"
   ]
  }
 ],
 "metadata": {
  "kernelspec": {
   "display_name": "dust3r",
   "language": "python",
   "name": "python3"
  },
  "language_info": {
   "codemirror_mode": {
    "name": "ipython",
    "version": 3
   },
   "file_extension": ".py",
   "mimetype": "text/x-python",
   "name": "python",
   "nbconvert_exporter": "python",
   "pygments_lexer": "ipython3",
   "version": "3.11.9"
  }
 },
 "nbformat": 4,
 "nbformat_minor": 2
}
